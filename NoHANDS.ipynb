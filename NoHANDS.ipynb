{
  "nbformat": 4,
  "nbformat_minor": 0,
  "metadata": {
    "colab": {
      "provenance": [],
      "authorship_tag": "ABX9TyPNMnCBxxK0UUz5g3+q+tzJ",
      "include_colab_link": true
    },
    "kernelspec": {
      "name": "python3",
      "display_name": "Python 3"
    },
    "language_info": {
      "name": "python"
    }
  },
  "cells": [
    {
      "cell_type": "markdown",
      "metadata": {
        "id": "view-in-github",
        "colab_type": "text"
      },
      "source": [
        "<a href=\"https://colab.research.google.com/github/rnezil/NoHANDS/blob/main/NoHANDS.ipynb\" target=\"_parent\"><img src=\"https://colab.research.google.com/assets/colab-badge.svg\" alt=\"Open In Colab\"/></a>"
      ]
    },
    {
      "cell_type": "markdown",
      "source": [
        "NoHANDS: Non-Human/AI Neoliterature Detection System\n",
        "\n",
        "Ryland Nezil, Uche Nwogbo, Alex Spacek\n",
        "February 2024"
      ],
      "metadata": {
        "id": "JxjNO4EjK-wb"
      }
    },
    {
      "cell_type": "code",
      "execution_count": 2,
      "metadata": {
        "colab": {
          "base_uri": "https://localhost:8080/"
        },
        "id": "pUymC8tpK6nM",
        "outputId": "611f88bd-aae2-4e07-a63b-f58f4dde2fc5"
      },
      "outputs": [
        {
          "output_type": "stream",
          "name": "stdout",
          "text": [
            "go canucks go\n"
          ]
        }
      ],
      "source": [
        "print('go canucks go')"
      ]
    }
  ]
}